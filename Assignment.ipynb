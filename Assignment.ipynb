{
 "cells": [
  {
   "cell_type": "markdown",
   "id": "8daafe33-b6d7-4c7b-98c7-2a4e4fcd3866",
   "metadata": {
    "tags": []
   },
   "source": [
    "## 1- ASSIGNMENT (LOOPS)"
   ]
  },
  {
   "cell_type": "markdown",
   "id": "b6743c2a-47d6-43c1-8089-40b17e66bab3",
   "metadata": {},
   "source": [
    "  QUESTION - Q1. Explain with an example each when to use a for loop and a while loop.\n",
    "  ANSWER  - A1. Basically both the loops can be used for doing the same thing but the main difference  comes when we do not know the limit of the loop\n",
    "                or for how many times the loop will execute.\n",
    "                For example\n",
    "                1-## to know the number of digit in a number"
   ]
  },
  {
   "cell_type": "code",
   "execution_count": 12,
   "id": "728139ad-0674-4355-a15e-b13fdfa91b9d",
   "metadata": {},
   "outputs": [
    {
     "name": "stdin",
     "output_type": "stream",
     "text": [
      "enter the number 45\n"
     ]
    },
    {
     "name": "stdout",
     "output_type": "stream",
     "text": [
      "the number of digit in  45 is  2\n"
     ]
    }
   ],
   "source": [
    "num = int(input(\"enter the number\"))\n",
    "n = num\n",
    "c= 0\n",
    "while n>0:\n",
    "    n = n//10\n",
    "    c=c+1\n",
    "    \n",
    "print('the number of digit in ',num,\"is \",c)\n",
    "    "
   ]
  },
  {
   "cell_type": "markdown",
   "id": "ad19c270-f0f6-437f-8919-63ae2a469437",
   "metadata": {},
   "source": [
    "                 2 - ## to add 1 to every elemnt of the numeric list       "
   ]
  },
  {
   "cell_type": "code",
   "execution_count": 14,
   "id": "b81def76-cd88-48f5-bbe3-2951ce966a83",
   "metadata": {},
   "outputs": [
    {
     "data": {
      "text/plain": [
       "[2, 3, 4, 5, 6, 7, 8]"
      ]
     },
     "execution_count": 14,
     "metadata": {},
     "output_type": "execute_result"
    }
   ],
   "source": [
    "l=[1,2,3,4,5,6,7,'shaurya','mayhem']\n",
    "l2=[]\n",
    "le = len(l)\n",
    "for i in range(0,le,1):\n",
    "    if type(l[i])==int or type(l[i])==float:\n",
    "        l2.append(l[i]+1)\n",
    "l2        \n",
    "        "
   ]
  },
  {
   "cell_type": "markdown",
   "id": "bab0884e-39f2-4c4f-ae08-39e40b5ebf02",
   "metadata": {},
   "source": [
    "Question-2"
   ]
  },
  {
   "cell_type": "raw",
   "id": "91fafedd-2de0-422d-85b5-3b65aa74623f",
   "metadata": {},
   "source": [
    "Q2. Write a python program to print the sum and product of the first 10 natural numbers using for\n",
    "and while loop."
   ]
  },
  {
   "cell_type": "code",
   "execution_count": 16,
   "id": "2c43ebad-661c-4fbf-9a52-f09af6fc8734",
   "metadata": {},
   "outputs": [
    {
     "name": "stdout",
     "output_type": "stream",
     "text": [
      "the product of the numbers is  3628800\n",
      "the sum of the numbers is  55\n"
     ]
    }
   ],
   "source": [
    "n = 10\n",
    "sum = 0 \n",
    "prod=1\n",
    "while n>0:\n",
    "    sum = sum +n\n",
    "    prod = prod*n\n",
    "    n= n-1\n",
    "print(\"the product of the numbers is \",prod)\n",
    "print('the sum of the numbers is ',sum)\n",
    "    "
   ]
  },
  {
   "cell_type": "markdown",
   "id": "957fbd17-9cd1-476a-9190-04a0381a29bd",
   "metadata": {},
   "source": [
    "Qusetion - 3"
   ]
  },
  {
   "cell_type": "markdown",
   "id": "01f94c68-89ed-4bf5-b58a-aaa4ffaf7fe6",
   "metadata": {},
   "source": [
    "Q3. Create a python program to compute the electricity bill for a household.\n",
    "The per-unit charges in rupees are as follows: For the first 100 units, the user will be charged Rs. 4.5 per\n",
    "unit, for the next 100 units, the user will be charged Rs. 6 per unit, and for the next 100 units, the user will\n",
    "be charged Rs. 10 per unit, After 300 units and above the user will be charged Rs. 20 per unit."
   ]
  },
  {
   "cell_type": "code",
   "execution_count": 23,
   "id": "875eddf7-59e4-47dd-9f28-13796e7fd072",
   "metadata": {},
   "outputs": [
    {
     "name": "stdin",
     "output_type": "stream",
     "text": [
      "enter the units 310\n"
     ]
    },
    {
     "name": "stdout",
     "output_type": "stream",
     "text": [
      "the electricity bill is  2250.0\n"
     ]
    }
   ],
   "source": [
    "total = 0\n",
    "units = int(input('enter the units'))\n",
    "if units <= 100:\n",
    "        total = units * 4.5\n",
    "elif units <= 200:\n",
    "        total = 100 * 4.5 + (units - 100) * 6\n",
    "elif units <= 300:\n",
    "        total = 100 * 4.5 + 100 * 6 + (units - 200) * 10\n",
    "else:\n",
    "        total = 100 * 4.5 + 100 * 6 + 100 * 10 + (units - 300) * 20\n",
    "print ('the electricity bill is ',total)"
   ]
  },
  {
   "cell_type": "markdown",
   "id": "7abda5f4-24c8-45f0-9049-4211a84b534a",
   "metadata": {},
   "source": [
    "Q4. Create a list of numbers from 1 to 100. Use for loop and while loop to calculate the cube of each\n",
    "number and if the cube of that number is divisible by 4 or 5 then append that number in a list and print\n",
    "that list."
   ]
  },
  {
   "cell_type": "code",
   "execution_count": 8,
   "id": "2c361ccf-1acb-4c09-8432-b0e18a626c4d",
   "metadata": {},
   "outputs": [
    {
     "data": {
      "text/plain": [
       "[2,\n",
       " 4,\n",
       " 5,\n",
       " 6,\n",
       " 8,\n",
       " 10,\n",
       " 12,\n",
       " 14,\n",
       " 15,\n",
       " 16,\n",
       " 18,\n",
       " 20,\n",
       " 22,\n",
       " 24,\n",
       " 25,\n",
       " 26,\n",
       " 28,\n",
       " 30,\n",
       " 32,\n",
       " 34,\n",
       " 35,\n",
       " 36,\n",
       " 38,\n",
       " 40,\n",
       " 42,\n",
       " 44,\n",
       " 45,\n",
       " 46,\n",
       " 48,\n",
       " 50,\n",
       " 52,\n",
       " 54,\n",
       " 55,\n",
       " 56,\n",
       " 58,\n",
       " 60,\n",
       " 62,\n",
       " 64,\n",
       " 65,\n",
       " 66,\n",
       " 68,\n",
       " 70,\n",
       " 72,\n",
       " 74,\n",
       " 75,\n",
       " 76,\n",
       " 78,\n",
       " 80,\n",
       " 82,\n",
       " 84,\n",
       " 85,\n",
       " 86,\n",
       " 88,\n",
       " 90,\n",
       " 92,\n",
       " 94,\n",
       " 95,\n",
       " 96,\n",
       " 98,\n",
       " 100]"
      ]
     },
     "execution_count": 8,
     "metadata": {},
     "output_type": "execute_result"
    }
   ],
   "source": [
    "l =[]\n",
    "for i in range(1,101):\n",
    "    l.append(i)\n",
    "l3 = []\n",
    "c=1\n",
    "for k in l:\n",
    "    c=k*k*k\n",
    "    if c%4==0 or c%5==0:\n",
    "        l3.append(k)\n",
    "l3        \n",
    "    "
   ]
  },
  {
   "cell_type": "markdown",
   "id": "20438908-0830-40f1-88c7-31ce8ea1af1a",
   "metadata": {},
   "source": [
    "Q5. Write a program to filter count vowels in the below-given string.\n",
    "string = \"I want to become a data scientist\""
   ]
  },
  {
   "cell_type": "code",
   "execution_count": 10,
   "id": "0572866b-63a1-42a0-8bda-75465eeef676",
   "metadata": {},
   "outputs": [
    {
     "name": "stdout",
     "output_type": "stream",
     "text": [
      "I\n",
      "a\n",
      "o\n",
      "e\n",
      "o\n",
      "e\n",
      "a\n",
      "a\n",
      "a\n",
      "i\n",
      "e\n",
      "i\n"
     ]
    }
   ],
   "source": [
    "s = \"I want to become a data scientist\"\n",
    "c= 0\n",
    "for i in s:\n",
    "    if i ==\"a\" or i ==\"e\" or i==\"i\" or i==\"o\" or i==\"u\" or i==\"I\" :\n",
    "        c+=1\n",
    "        print(i)"
   ]
  },
  {
   "cell_type": "code",
   "execution_count": null,
   "id": "95fa85b0-0029-424f-a4a6-934513d6a049",
   "metadata": {},
   "outputs": [],
   "source": []
  }
 ],
 "metadata": {
  "kernelspec": {
   "display_name": "Python 3 (ipykernel)",
   "language": "python",
   "name": "python3"
  },
  "language_info": {
   "codemirror_mode": {
    "name": "ipython",
    "version": 3
   },
   "file_extension": ".py",
   "mimetype": "text/x-python",
   "name": "python",
   "nbconvert_exporter": "python",
   "pygments_lexer": "ipython3",
   "version": "3.10.8"
  }
 },
 "nbformat": 4,
 "nbformat_minor": 5
}
